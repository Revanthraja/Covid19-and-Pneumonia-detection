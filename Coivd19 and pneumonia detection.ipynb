{
 "cells": [
  {
   "cell_type": "code",
   "execution_count": 1,
   "id": "51fa6132",
   "metadata": {},
   "outputs": [],
   "source": [
    "import numpy as np\n",
    "from tensorflow.keras.preprocessing.image import ImageDataGenerator\n",
    "from tensorflow.keras.layers import Conv2D,MaxPool2D,Dense,Dropout,Activation,Flatten,MaxPooling2D\n",
    "from tensorflow.keras.models import Sequential,load_model\n"
   ]
  },
  {
   "cell_type": "code",
   "execution_count": 2,
   "id": "6d6a588a",
   "metadata": {},
   "outputs": [],
   "source": [
    "train_data=ImageDataGenerator(\n",
    "        rescale=1./255,\n",
    "    shear_range=0.2,\n",
    "    zoom_range=0.2,\n",
    "    horizontal_flip=False\n",
    "    )"
   ]
  },
  {
   "cell_type": "code",
   "execution_count": 3,
   "id": "b033bb59",
   "metadata": {},
   "outputs": [
    {
     "name": "stdout",
     "output_type": "stream",
     "text": [
      "Found 5228 images belonging to 3 classes.\n"
     ]
    }
   ],
   "source": [
    "train_set=train_data.flow_from_directory(\n",
    "    \"Train\",\n",
    "    target_size=(64,64),\n",
    "    batch_size=32,\n",
    "    class_mode='categorical'\n",
    ")"
   ]
  },
  {
   "cell_type": "code",
   "execution_count": 4,
   "id": "f2c863a2",
   "metadata": {},
   "outputs": [],
   "source": [
    "test_data=ImageDataGenerator(\n",
    "    rescale=1./255)"
   ]
  },
  {
   "cell_type": "code",
   "execution_count": 5,
   "id": "6b275482",
   "metadata": {},
   "outputs": [
    {
     "name": "stdout",
     "output_type": "stream",
     "text": [
      "Found 3000 images belonging to 3 classes.\n"
     ]
    }
   ],
   "source": [
    "test_set=test_data.flow_from_directory(\n",
    "    \"Test\",\n",
    "    target_size=(64,64),\n",
    "    batch_size=32,\n",
    "    class_mode=\"categorical\"\n",
    "\n",
    ")"
   ]
  },
  {
   "cell_type": "code",
   "execution_count": 6,
   "id": "27e48efa",
   "metadata": {},
   "outputs": [],
   "source": [
    "model=Sequential()"
   ]
  },
  {
   "cell_type": "code",
   "execution_count": 7,
   "id": "8b19ef94",
   "metadata": {},
   "outputs": [],
   "source": [
    "model.add(Conv2D(64,(3,3),activation='relu',input_shape=(64,64,3)))\n",
    "model.add(MaxPooling2D(2,2))"
   ]
  },
  {
   "cell_type": "code",
   "execution_count": 8,
   "id": "c15a6991",
   "metadata": {},
   "outputs": [],
   "source": [
    "model.add(Conv2D(128,(3,3),activation='relu'))\n",
    "model.add(MaxPooling2D(2,2))\n",
    "model.add(Conv2D(256,(3,3),activation='relu'))\n",
    "model.add(MaxPooling2D(2,2))\n",
    "model.add(Conv2D(512,(3,3),activation='relu'))\n",
    "model.add(MaxPooling2D(2,2))"
   ]
  },
  {
   "cell_type": "code",
   "execution_count": 9,
   "id": "b8366c72",
   "metadata": {},
   "outputs": [],
   "source": [
    "model.add(Dropout(0.5))\n",
    "model.add(Flatten())"
   ]
  },
  {
   "cell_type": "code",
   "execution_count": 10,
   "id": "b48ec3b8",
   "metadata": {},
   "outputs": [],
   "source": [
    "model.add(Dense(256,activation='relu'))\n",
    "model.add(Dense(256,activation='relu'))\n",
    "model.add(Dense(128,activation='relu'))"
   ]
  },
  {
   "cell_type": "code",
   "execution_count": 11,
   "id": "877dcccf",
   "metadata": {},
   "outputs": [],
   "source": [
    "model.add(Dense(3,activation='softmax'))"
   ]
  },
  {
   "cell_type": "code",
   "execution_count": 12,
   "id": "4c57a1c6",
   "metadata": {},
   "outputs": [],
   "source": [
    "model.compile(optimizer='adam',loss='categorical_crossentropy',metrics=['accuracy'])"
   ]
  },
  {
   "cell_type": "code",
   "execution_count": 13,
   "id": "97645fcb",
   "metadata": {},
   "outputs": [
    {
     "name": "stdout",
     "output_type": "stream",
     "text": [
      "Epoch 1/15\n",
      "164/164 [==============================] - 159s 944ms/step - loss: 0.7805 - accuracy: 0.6067 - val_loss: 0.5340 - val_accuracy: 0.7563\n",
      "Epoch 2/15\n",
      "164/164 [==============================] - 94s 577ms/step - loss: 0.4125 - accuracy: 0.8336 - val_loss: 0.2922 - val_accuracy: 0.8960\n",
      "Epoch 3/15\n",
      "164/164 [==============================] - 92s 563ms/step - loss: 0.3266 - accuracy: 0.8711 - val_loss: 0.2275 - val_accuracy: 0.9227\n",
      "Epoch 4/15\n",
      "164/164 [==============================] - 92s 562ms/step - loss: 0.2613 - accuracy: 0.9063 - val_loss: 0.1741 - val_accuracy: 0.9447\n",
      "Epoch 5/15\n",
      "164/164 [==============================] - 91s 552ms/step - loss: 0.2388 - accuracy: 0.9141 - val_loss: 0.1700 - val_accuracy: 0.9433\n",
      "Epoch 6/15\n",
      "164/164 [==============================] - 89s 543ms/step - loss: 0.2265 - accuracy: 0.9218 - val_loss: 0.2081 - val_accuracy: 0.9377\n",
      "Epoch 7/15\n",
      "164/164 [==============================] - 87s 531ms/step - loss: 0.2191 - accuracy: 0.9235 - val_loss: 0.1538 - val_accuracy: 0.9483\n",
      "Epoch 8/15\n",
      "164/164 [==============================] - 81s 492ms/step - loss: 0.1969 - accuracy: 0.9327 - val_loss: 0.1149 - val_accuracy: 0.9617\n",
      "Epoch 9/15\n",
      "164/164 [==============================] - 90s 545ms/step - loss: 0.1825 - accuracy: 0.9399 - val_loss: 0.1137 - val_accuracy: 0.9640\n",
      "Epoch 10/15\n",
      "164/164 [==============================] - 95s 578ms/step - loss: 0.1764 - accuracy: 0.9413 - val_loss: 0.1402 - val_accuracy: 0.9503\n",
      "Epoch 11/15\n",
      "164/164 [==============================] - 98s 598ms/step - loss: 0.1632 - accuracy: 0.9440 - val_loss: 0.1095 - val_accuracy: 0.9647\n",
      "Epoch 12/15\n",
      "164/164 [==============================] - 111s 675ms/step - loss: 0.1607 - accuracy: 0.9457 - val_loss: 0.1293 - val_accuracy: 0.9600\n",
      "Epoch 13/15\n",
      "164/164 [==============================] - 103s 629ms/step - loss: 0.1664 - accuracy: 0.9464 - val_loss: 0.0950 - val_accuracy: 0.9677\n",
      "Epoch 14/15\n",
      "164/164 [==============================] - 86s 522ms/step - loss: 0.1570 - accuracy: 0.9445 - val_loss: 0.1333 - val_accuracy: 0.9517\n",
      "Epoch 15/15\n",
      "164/164 [==============================] - 81s 496ms/step - loss: 0.1538 - accuracy: 0.9484 - val_loss: 0.1398 - val_accuracy: 0.9570\n"
     ]
    },
    {
     "data": {
      "text/plain": [
       "<keras.callbacks.History at 0x2402c769f10>"
      ]
     },
     "execution_count": 13,
     "metadata": {},
     "output_type": "execute_result"
    }
   ],
   "source": [
    "model.fit(x=train_set,validation_data=test_set,epochs=15)"
   ]
  },
  {
   "cell_type": "code",
   "execution_count": 14,
   "id": "9e01c243",
   "metadata": {},
   "outputs": [],
   "source": [
    "model.save(\"Covid.h5\")"
   ]
  },
  {
   "cell_type": "code",
   "execution_count": 15,
   "id": "9fdce15c",
   "metadata": {},
   "outputs": [
    {
     "data": {
      "text/plain": [
       "{'COVID': 0, 'NORMAL': 1, 'PNEUMONIA': 2}"
      ]
     },
     "execution_count": 15,
     "metadata": {},
     "output_type": "execute_result"
    }
   ],
   "source": [
    "train_set.class_indices"
   ]
  },
  {
   "cell_type": "code",
   "execution_count": 19,
   "id": "0baeeb8a",
   "metadata": {},
   "outputs": [],
   "source": [
    "model=load_model(\"Covid.h5\")"
   ]
  },
  {
   "cell_type": "code",
   "execution_count": 36,
   "id": "10b2487c",
   "metadata": {},
   "outputs": [
    {
     "name": "stdout",
     "output_type": "stream",
     "text": [
      "1/1 [==============================] - 0s 17ms/step\n"
     ]
    }
   ],
   "source": [
    "from tensorflow.keras.preprocessing import image\n",
    "test_image=image.load_img(\"E:/Jupyter/Covid19/Train/COVID/COVID_16.png\",target_size=(64,64))\n",
    "test_image=image.img_to_array(test_image)\n",
    "test_image=np.expand_dims(test_image,axis=0)\n",
    "result=model.predict(test_image)"
   ]
  },
  {
   "cell_type": "code",
   "execution_count": 37,
   "id": "ad2e949b",
   "metadata": {},
   "outputs": [
    {
     "data": {
      "text/plain": [
       "array([[1., 0., 0.]], dtype=float32)"
      ]
     },
     "execution_count": 37,
     "metadata": {},
     "output_type": "execute_result"
    }
   ],
   "source": [
    "result"
   ]
  },
  {
   "cell_type": "code",
   "execution_count": 38,
   "id": "2d57700f",
   "metadata": {},
   "outputs": [
    {
     "name": "stdout",
     "output_type": "stream",
     "text": [
      "This is an Covid19\n"
     ]
    }
   ],
   "source": [
    "if result[0][0]==1:\n",
    "    print(\"This is an Covid19\")\n",
    "elif result[0][1]==1:\n",
    "    print(\"This is an normal image\")\n",
    "elif result[0][2]==1:\n",
    "    print(\"This is an Pneuomonia\")"
   ]
  },
  {
   "cell_type": "code",
   "execution_count": null,
   "id": "9981feb9",
   "metadata": {},
   "outputs": [],
   "source": []
  }
 ],
 "metadata": {
  "kernelspec": {
   "display_name": "Python 3 (ipykernel)",
   "language": "python",
   "name": "python3"
  },
  "language_info": {
   "codemirror_mode": {
    "name": "ipython",
    "version": 3
   },
   "file_extension": ".py",
   "mimetype": "text/x-python",
   "name": "python",
   "nbconvert_exporter": "python",
   "pygments_lexer": "ipython3",
   "version": "3.9.12"
  }
 },
 "nbformat": 4,
 "nbformat_minor": 5
}
